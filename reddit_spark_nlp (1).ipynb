{
 "cells": [
  {
   "cell_type": "markdown",
   "id": "automotive-butler",
   "metadata": {},
   "source": [
    "# Reddit Mental Health Data Using Spark NLP"
   ]
  },
  {
   "cell_type": "code",
   "execution_count": 1,
   "id": "unavailable-pillow",
   "metadata": {
    "tags": []
   },
   "outputs": [],
   "source": [
    "from pyspark.sql import SparkSession\n",
    "\n",
    "spark = SparkSession.builder.master('local[*]').appName('spark_ml').config(\"spark.driver.memory\",\"8G\").getOrCreate()"
   ]
  },
  {
   "cell_type": "markdown",
   "id": "periodic-saudi",
   "metadata": {},
   "source": [
    "### Load the data"
   ]
  },
  {
   "cell_type": "markdown",
   "id": "coordinated-wisconsin",
   "metadata": {},
   "source": [
    "First, we load the data."
   ]
  },
  {
   "cell_type": "code",
   "execution_count": 20,
   "id": "3992cf22-0af8-4a4d-bb27-862bdf82a4d8",
   "metadata": {
    "tags": []
   },
   "outputs": [],
   "source": [
    "reddit = spark.read.options(delimiter=',', header=True, inferSchema=True, multiLine = True, escape = '\\\"').csv('mental_disorders_reddit.csv')"
   ]
  },
  {
   "cell_type": "code",
   "execution_count": 21,
   "id": "fe39f8fc-55dd-48e0-9d41-2d58c71aef92",
   "metadata": {
    "tags": []
   },
   "outputs": [
    {
     "name": "stdout",
     "output_type": "stream",
     "text": [
      "root\n",
      " |-- title: string (nullable = true)\n",
      " |-- selftext: string (nullable = true)\n",
      " |-- created_utc: integer (nullable = true)\n",
      " |-- over_18: boolean (nullable = true)\n",
      " |-- subreddit: string (nullable = true)\n",
      "\n"
     ]
    }
   ],
   "source": [
    "reddit.printSchema()"
   ]
  },
  {
   "cell_type": "code",
   "execution_count": 22,
   "id": "bdbda3cf-9d30-4600-b450-482c203720d5",
   "metadata": {
    "tags": []
   },
   "outputs": [
    {
     "name": "stdout",
     "output_type": "stream",
     "text": [
      "+--------------------+--------------------+-----------+-------+---------+\n",
      "|               title|            selftext|created_utc|over_18|subreddit|\n",
      "+--------------------+--------------------+-----------+-------+---------+\n",
      "|Life is so pointl...|Does anyone else ...| 1650356960|  false|      BPD|\n",
      "|          Cold rage?|Hello fellow frie...| 1650356660|  false|      BPD|\n",
      "|I don’t know who ...|My [F20] bf [M20]...| 1650355379|  false|      BPD|\n",
      "|HELP! Opinions! A...|Okay, I’m about t...| 1650353430|  false|      BPD|\n",
      "|                help|           [removed]| 1650350907|  false|      BPD|\n",
      "|My ex got diagnos...|Without going int...| 1650350635|  false|      BPD|\n",
      "|Is misdiagnosis o...|(Reposting here o...| 1650349446|  false|      BPD|\n",
      "|I have trouble id...|I grew up mostly ...| 1650349125|  false|      BPD|\n",
      "|     Needing advice…|I posted on this ...| 1650349094|  false|      BPD|\n",
      "|      Do I have BPD?|           [removed]| 1650349072|   true|      BPD|\n",
      "|How do you deal w...|If they were to t...| 1650346904|  false|      BPD|\n",
      "|My husband doesn’...|I am in a really ...| 1650346237|  false|      BPD|\n",
      "|Not sure when my ...|My appointment wi...| 1650345499|  false|      BPD|\n",
      "|       anyone else??|Hi guys whenever ...| 1650345442|  false|      BPD|\n",
      "|Murderous Rage ki...|I have been actua...| 1650344955|   true|      BPD|\n",
      "|Where do I go fro...|So within the pas...| 1650343475|  false|      BPD|\n",
      "|Well I’m really f...|Two days ago I po...| 1650343263|  false|      BPD|\n",
      "|            it hurts|it fucking hurts\\...| 1650343073|  false|      BPD|\n",
      "|    it fucking hurts|           [removed]| 1650342953|  false|      BPD|\n",
      "|Saviour complex c...|Is it overcompens...| 1650340519|  false|      BPD|\n",
      "|different between...|the other day my ...| 1650339813|  false|      BPD|\n",
      "|realized i massiv...|idk what to do he...| 1650339777|  false|      BPD|\n",
      "|Birthdays are wei...|Does anyone else ...| 1650338795|  false|      BPD|\n",
      "|Birthdays are wei...|           [removed]| 1650338545|  false|      BPD|\n",
      "|How to stop talki...|Sorry if the form...| 1650337160|  false|      BPD|\n",
      "|fp just broke up ...|every day I relax...| 1650335264|  false|      BPD|\n",
      "|unstable identity...|           [removed]| 1650333780|  false|      BPD|\n",
      "|What is the point...|If I could push a...| 1650333404|  false|      BPD|\n",
      "|New FP after ONE ...|           [removed]| 1650333263|  false|      BPD|\n",
      "|FP is seriously d...|           [removed]| 1650333105|  false|      BPD|\n",
      "+--------------------+--------------------+-----------+-------+---------+\n",
      "only showing top 30 rows\n",
      "\n"
     ]
    }
   ],
   "source": [
    "reddit.show(30)"
   ]
  },
  {
   "cell_type": "code",
   "execution_count": 23,
   "id": "00e817b0-1fee-4487-895c-8c2933500180",
   "metadata": {
    "tags": []
   },
   "outputs": [],
   "source": [
    "from pyspark.sql.functions import regexp_replace"
   ]
  },
  {
   "cell_type": "code",
   "execution_count": 24,
   "id": "53baf309-911e-4fbe-9747-13ea81048ee3",
   "metadata": {
    "tags": []
   },
   "outputs": [],
   "source": [
    "reddit = reddit.withColumn(\"subreddit\", regexp_replace(reddit[\"subreddit\"], \"bipolar\", \"BPD\"))"
   ]
  },
  {
   "cell_type": "code",
   "execution_count": 25,
   "id": "00e582ce-e6f7-4c12-ba7c-e17139077b95",
   "metadata": {
    "tags": []
   },
   "outputs": [],
   "source": [
    "reddit = reddit.repartition(30)"
   ]
  },
  {
   "cell_type": "code",
   "execution_count": 26,
   "id": "8e37f608-785c-4bb7-a6e8-4fdb46fa980a",
   "metadata": {
    "tags": []
   },
   "outputs": [
    {
     "name": "stdout",
     "output_type": "stream",
     "text": [
      "701787\n",
      "--- 44.3816773891449 seconds ---\n"
     ]
    }
   ],
   "source": [
    "import time\n",
    "start_time = time.time()\n",
    "print(reddit.count())\n",
    "print(\"--- %s seconds ---\" % (time.time() - start_time))"
   ]
  },
  {
   "cell_type": "code",
   "execution_count": 27,
   "id": "b04311ca-0d11-4a18-b7ef-1fbc6ad157eb",
   "metadata": {
    "tags": []
   },
   "outputs": [],
   "source": [
    "import pyspark.sql.functions as F\n",
    "from pyspark.sql.functions import col\n",
    "from pyspark.sql.types import StringType\n",
    "from pyspark.sql import SparkSession\n",
    "from nltk.corpus import stopwords\n",
    "from textblob import TextBlob\n",
    "import matplotlib.pyplot as plt\n",
    "from pyspark.sql.functions import col, udf\n",
    "import re"
   ]
  },
  {
   "cell_type": "code",
   "execution_count": 28,
   "id": "a7c60a3c-faba-4808-b2ec-a37b698d53f4",
   "metadata": {
    "tags": []
   },
   "outputs": [],
   "source": [
    "# handle null values in clean_freetext column\n",
    "def replace_null(x):\n",
    "    if x is None:\n",
    "        return ''\n",
    "    else:\n",
    "        return x"
   ]
  },
  {
   "cell_type": "code",
   "execution_count": 29,
   "id": "fd7bd8a3-870e-4b6e-90ee-410d7b745f0a",
   "metadata": {
    "tags": []
   },
   "outputs": [
    {
     "name": "stderr",
     "output_type": "stream",
     "text": [
      "[nltk_data] Downloading package stopwords to /home/jovyan/nltk_data...\n",
      "[nltk_data]   Package stopwords is already up-to-date!\n"
     ]
    },
    {
     "data": {
      "text/plain": [
       "True"
      ]
     },
     "execution_count": 29,
     "metadata": {},
     "output_type": "execute_result"
    }
   ],
   "source": [
    "import nltk\n",
    "nltk.download('stopwords')"
   ]
  },
  {
   "cell_type": "code",
   "execution_count": 30,
   "id": "786b8014-bc56-4070-8d1b-597e312e2e9f",
   "metadata": {
    "tags": []
   },
   "outputs": [],
   "source": [
    "replace_null_udf = udf(replace_null, StringType())\n",
    "reddit = reddit.withColumn('selftext', replace_null_udf(col('selftext')))"
   ]
  },
  {
   "cell_type": "code",
   "execution_count": 31,
   "id": "03a9798b-0ae9-4c9c-86a7-4ae62996c0ec",
   "metadata": {
    "tags": []
   },
   "outputs": [],
   "source": [
    "# remove stopwords from freetext column\n",
    "stop_words = set(stopwords.words('english'))\n",
    "filter_spam = F.udf(lambda x: \" \".join([word for word in x.lower().split() if word not in stop_words]), StringType())\n",
    "reddit = reddit.withColumn('clean_selftext', filter_spam(col('selftext')))"
   ]
  },
  {
   "cell_type": "code",
   "execution_count": 32,
   "id": "3efd484b-01e4-48a6-8a3e-bf9ad97bae40",
   "metadata": {
    "tags": []
   },
   "outputs": [],
   "source": [
    "# remove stopwords from Title column\n",
    "stop_words = set(stopwords.words('english'))\n",
    "filter_spam = F.udf(lambda x: \" \".join([word for word in x.lower().split() if word not in stop_words]), StringType())\n",
    "reddit = reddit.withColumn('clean_title', filter_spam(col('title')))"
   ]
  },
  {
   "cell_type": "code",
   "execution_count": 33,
   "id": "6ad2ab32-dd2f-449d-b5db-786bd71d4270",
   "metadata": {
    "tags": []
   },
   "outputs": [
    {
     "name": "stdout",
     "output_type": "stream",
     "text": [
      "+--------------------+--------------------+-----------+-------+----------+--------------------+--------------------+\n",
      "|               title|            selftext|created_utc|over_18| subreddit|      clean_selftext|         clean_title|\n",
      "+--------------------+--------------------+-----------+-------+----------+--------------------+--------------------+\n",
      "|Anxiety is random...|Hi everyone. I've...| 1628004889|  false|   Anxiety|hi everyone. i've...|anxiety randomly ...|\n",
      "|              help ¿|hii I'm 16 (f)\\nS...| 1649141333|  false|   Anxiety|hii i'm 16 (f) ne...|              help ¿|\n",
      "|DAE track their m...|My therapist sugg...| 1542860454|  false|       BPD|therapist suggest...|     dae track mood?|\n",
      "|Latuda is expensi...|So I have been on...| 1649687216|  false|       BPD|latuda years comp...|latuda expensive!...|\n",
      "|I’m realizing how...|My perspective of...| 1648447783|  false|   Anxiety|perspective stutt...|i’m realizing oth...|\n",
      "|Mental health com...|Some of us can’t ...| 1635742205|  false|   Anxiety|us can’t afford i...|mental health com...|\n",
      "|Brain feels numb ...|I was always horn...| 1666920331|  false|depression|always horny full...|brain feels numb ...|\n",
      "|Anxiety Attacks (...|So I've noticed t...| 1608478983|  false|   Anxiety|i've noticed anxi...|anxiety attacks (...|\n",
      "|Venting about an ...|So Im getting lai...| 1603781620|  false|       BPD|im getting laid w...|venting impulsive...|\n",
      "|I am pretty certa...|As a preamble, I ...| 1565573522|  false|       BPD|preamble, say i'v...|pretty certain bp...|\n",
      "+--------------------+--------------------+-----------+-------+----------+--------------------+--------------------+\n",
      "only showing top 10 rows\n",
      "\n"
     ]
    }
   ],
   "source": [
    "reddit.show(10)"
   ]
  },
  {
   "cell_type": "code",
   "execution_count": 17,
   "id": "be4f38a0-2ce6-4fdc-9636-7d768e7e9f84",
   "metadata": {
    "tags": []
   },
   "outputs": [],
   "source": [
    "#reddit = reddit.filter(F.col(\"clean_title\").isNotNull())"
   ]
  },
  {
   "cell_type": "markdown",
   "id": "ba440b1c-0c51-43ab-933f-93ee55a7e2b3",
   "metadata": {
    "tags": []
   },
   "source": [
    "### Word Counts of the 'SelfText' Column"
   ]
  },
  {
   "cell_type": "code",
   "execution_count": 34,
   "id": "1852453e-b338-4267-aae1-888ddf54bbd3",
   "metadata": {
    "tags": []
   },
   "outputs": [
    {
     "name": "stdout",
     "output_type": "stream",
     "text": [
      "+------+------+\n",
      "|  word| count|\n",
      "+------+------+\n",
      "|  like|720840|\n",
      "|  feel|578344|\n",
      "|   i'm|521733|\n",
      "|   i’m|471377|\n",
      "|  know|404265|\n",
      "|   get|372578|\n",
      "|  want|346615|\n",
      "|really|313670|\n",
      "|  even|308379|\n",
      "|people|234724|\n",
      "+------+------+\n",
      "\n",
      "--- 65.71470618247986 seconds ---\n"
     ]
    }
   ],
   "source": [
    "import pyspark.sql.functions as fn\n",
    "import time\n",
    "\n",
    "start_time = time.time()\n",
    "\n",
    "#Split the lines into words\n",
    "words = reddit.select(fn.explode(fn.split(fn.concat_ws(\" \", reddit.clean_selftext), ' ')).alias('word'))\n",
    "\n",
    "#Generate word count\n",
    "word_counts = words.groupBy('word').count()\n",
    "\n",
    "# Sort by count in descending order and take the top 10\n",
    "top10 = word_counts.orderBy('count', ascending=False).limit(10)\n",
    "\n",
    "top10.show()\n",
    "\n",
    "print(\"--- %s seconds ---\" % (time.time() - start_time))"
   ]
  },
  {
   "cell_type": "markdown",
   "id": "fcacd5d1-4c85-44bb-a71b-37eed6b46e23",
   "metadata": {},
   "source": [
    "### Word Counts of the 'Title' Column"
   ]
  },
  {
   "cell_type": "code",
   "execution_count": 44,
   "id": "033d2ba7-7d19-48b0-87fe-644713293006",
   "metadata": {
    "tags": []
   },
   "outputs": [],
   "source": [
    "from pyspark.sql import functions as fn\n",
    "reddit = reddit.filter(fn.col(\"title\").isNotNull())"
   ]
  },
  {
   "cell_type": "code",
   "execution_count": 45,
   "id": "cbd9d0e8-6a0b-4c4a-b9d2-0c69a88ae4f1",
   "metadata": {
    "tags": []
   },
   "outputs": [
    {
     "data": {
      "text/plain": [
       "701741"
      ]
     },
     "execution_count": 45,
     "metadata": {},
     "output_type": "execute_result"
    }
   ],
   "source": [
    "reddit.count()"
   ]
  },
  {
   "cell_type": "code",
   "execution_count": 46,
   "id": "0e1d9d7b-c8b0-419f-a1df-62ef84581a3f",
   "metadata": {
    "tags": []
   },
   "outputs": [
    {
     "name": "stdout",
     "output_type": "stream",
     "text": [
      "+-------+-----+\n",
      "|  word2|count|\n",
      "+-------+-----+\n",
      "|   feel|46177|\n",
      "|anxiety|45834|\n",
      "|   like|37183|\n",
      "| anyone|35617|\n",
      "|    i'm|32209|\n",
      "|    i’m|31356|\n",
      "|    bpd|27480|\n",
      "|    get|25525|\n",
      "|   help|24560|\n",
      "|   need|21865|\n",
      "+-------+-----+\n",
      "\n",
      "--- 53.98150610923767 seconds ---\n"
     ]
    }
   ],
   "source": [
    "import pyspark.sql.functions as fn\n",
    "import time\n",
    "\n",
    "start_time = time.time()\n",
    "\n",
    "#Split the lines into words\n",
    "words2 = reddit.select(fn.explode(fn.split(fn.concat_ws(\" \", reddit.clean_title), ' ')).alias('word2'))\n",
    "\n",
    "#Generate word count\n",
    "word_counts2 = words2.groupBy('word2').count()\n",
    "\n",
    "# Sort by count in descending order and take the top 10\n",
    "top10_2 = word_counts2.orderBy('count', ascending=False).limit(10)\n",
    "\n",
    "top10_2.show()\n",
    "\n",
    "print(\"--- %s seconds ---\" % (time.time() - start_time))"
   ]
  },
  {
   "cell_type": "markdown",
   "id": "6f370531-8af4-456e-940c-3fcc75bb8c55",
   "metadata": {
    "tags": []
   },
   "source": [
    "### Sentiment Analysis of 'Self Text' grouped by Subreddit"
   ]
  },
  {
   "cell_type": "code",
   "execution_count": 47,
   "id": "bcc70afb-2d08-46ad-9ae8-f5deadb1e0c8",
   "metadata": {
    "tags": []
   },
   "outputs": [
    {
     "name": "stdout",
     "output_type": "stream",
     "text": [
      "Requirement already satisfied: pyspark in /usr/local/spark-3.3.1-bin-hadoop3/python (3.3.1)\n",
      "Requirement already satisfied: py4j==0.10.9.5 in /opt/conda/lib/python3.10/site-packages (from pyspark) (0.10.9.5)\n",
      "Requirement already satisfied: nltk in /opt/conda/lib/python3.10/site-packages (3.8.1)\n",
      "Requirement already satisfied: click in /opt/conda/lib/python3.10/site-packages (from nltk) (8.1.3)\n",
      "Requirement already satisfied: joblib in /opt/conda/lib/python3.10/site-packages (from nltk) (1.2.0)\n",
      "Requirement already satisfied: tqdm in /opt/conda/lib/python3.10/site-packages (from nltk) (4.64.1)\n",
      "Requirement already satisfied: regex>=2021.8.3 in /opt/conda/lib/python3.10/site-packages (from nltk) (2023.3.23)\n",
      "Requirement already satisfied: textblob in /opt/conda/lib/python3.10/site-packages (0.17.1)\n",
      "Requirement already satisfied: nltk>=3.1 in /opt/conda/lib/python3.10/site-packages (from textblob) (3.8.1)\n",
      "Requirement already satisfied: regex>=2021.8.3 in /opt/conda/lib/python3.10/site-packages (from nltk>=3.1->textblob) (2023.3.23)\n",
      "Requirement already satisfied: tqdm in /opt/conda/lib/python3.10/site-packages (from nltk>=3.1->textblob) (4.64.1)\n",
      "Requirement already satisfied: joblib in /opt/conda/lib/python3.10/site-packages (from nltk>=3.1->textblob) (1.2.0)\n",
      "Requirement already satisfied: click in /opt/conda/lib/python3.10/site-packages (from nltk>=3.1->textblob) (8.1.3)\n"
     ]
    }
   ],
   "source": [
    "!pip install pyspark\n",
    "!pip install nltk\n",
    "!pip install textblob"
   ]
  },
  {
   "cell_type": "code",
   "execution_count": 48,
   "id": "a0f05673-dc4c-4789-b18c-2b2588fcefda",
   "metadata": {
    "tags": []
   },
   "outputs": [],
   "source": [
    "# calculate sentiment score of clean_freetext column\n",
    "get_sentiment = F.udf(lambda x: TextBlob(x).sentiment.polarity, StringType())\n",
    "reddit = reddit.withColumn('sentiment', get_sentiment(col('clean_selftext')))"
   ]
  },
  {
   "cell_type": "code",
   "execution_count": 49,
   "id": "b6544f01-9647-44c6-b02b-584e18b58177",
   "metadata": {
    "tags": []
   },
   "outputs": [
    {
     "name": "stdout",
     "output_type": "stream",
     "text": [
      "root\n",
      " |-- title: string (nullable = true)\n",
      " |-- selftext: string (nullable = true)\n",
      " |-- created_utc: integer (nullable = true)\n",
      " |-- over_18: boolean (nullable = true)\n",
      " |-- subreddit: string (nullable = true)\n",
      " |-- clean_selftext: string (nullable = true)\n",
      " |-- clean_title: string (nullable = true)\n",
      " |-- sentiment: string (nullable = true)\n",
      "\n"
     ]
    }
   ],
   "source": [
    "reddit.printSchema()"
   ]
  },
  {
   "cell_type": "code",
   "execution_count": 50,
   "id": "00e64bab-7976-4cc7-a67b-b083e8d1a72d",
   "metadata": {
    "tags": []
   },
   "outputs": [],
   "source": [
    "# calculate sentiment score and label of clean_freetext column\n",
    "def get_sentiment(x):\n",
    "    if x:\n",
    "        score = TextBlob(x).sentiment.polarity\n",
    "        if score > 0:\n",
    "            return 'Positive'\n",
    "        elif score < 0:\n",
    "            return 'Negative'\n",
    "        else:\n",
    "            return 'Neutral'\n",
    "    else:\n",
    "        return None"
   ]
  },
  {
   "cell_type": "code",
   "execution_count": 51,
   "id": "3ed37473-76ab-475b-bb4a-454d85c3518a",
   "metadata": {
    "tags": []
   },
   "outputs": [],
   "source": [
    "get_sentiment_udf = udf(get_sentiment, StringType())\n",
    "reddit = reddit.withColumn('sentiment_category', get_sentiment_udf(col('clean_selftext')))"
   ]
  },
  {
   "cell_type": "code",
   "execution_count": 52,
   "id": "90945ffb-6014-49e9-b826-58b11f78192a",
   "metadata": {
    "tags": []
   },
   "outputs": [
    {
     "name": "stdout",
     "output_type": "stream",
     "text": [
      "+--------------------+--------------------+-----------+-------+----------+--------------------+--------------------+--------------------+------------------+\n",
      "|               title|            selftext|created_utc|over_18| subreddit|      clean_selftext|         clean_title|           sentiment|sentiment_category|\n",
      "+--------------------+--------------------+-----------+-------+----------+--------------------+--------------------+--------------------+------------------+\n",
      "|Anxiety is random...|Hi everyone. I've...| 1628004889|  false|   Anxiety|hi everyone. i've...|anxiety randomly ...|0.020278679653679653|          Positive|\n",
      "|              help ¿|hii I'm 16 (f)\\nS...| 1649141333|  false|   Anxiety|hii i'm 16 (f) ne...|              help ¿|  0.2233977978543196|          Positive|\n",
      "|DAE track their m...|My therapist sugg...| 1542860454|  false|       BPD|therapist suggest...|     dae track mood?| 0.16319444444444445|          Positive|\n",
      "|Latuda is expensi...|So I have been on...| 1649687216|  false|       BPD|latuda years comp...|latuda expensive!...| 0.11933621933621932|          Positive|\n",
      "|I’m realizing how...|My perspective of...| 1648447783|  false|   Anxiety|perspective stutt...|i’m realizing oth...|  0.0523148148148148|          Positive|\n",
      "|Mental health com...|Some of us can’t ...| 1635742205|  false|   Anxiety|us can’t afford i...|mental health com...|              0.0425|          Positive|\n",
      "|Brain feels numb ...|I was always horn...| 1666920331|  false|depression|always horny full...|brain feels numb ...|                0.25|          Positive|\n",
      "|Anxiety Attacks (...|So I've noticed t...| 1608478983|  false|   Anxiety|i've noticed anxi...|anxiety attacks (...| 0.02500000000000001|          Positive|\n",
      "|Venting about an ...|So Im getting lai...| 1603781620|  false|       BPD|im getting laid w...|venting impulsive...|-0.15999999999999998|          Negative|\n",
      "|I am pretty certa...|As a preamble, I ...| 1565573522|  false|       BPD|preamble, say i'v...|pretty certain bp...|0.046897546897546896|          Positive|\n",
      "+--------------------+--------------------+-----------+-------+----------+--------------------+--------------------+--------------------+------------------+\n",
      "only showing top 10 rows\n",
      "\n"
     ]
    }
   ],
   "source": [
    "reddit.show(10)"
   ]
  },
  {
   "cell_type": "code",
   "execution_count": 54,
   "id": "6f5d4bef-6792-466c-b497-092db9666c34",
   "metadata": {
    "tags": []
   },
   "outputs": [],
   "source": [
    "# group by channel and sentiment and count the number of records\n",
    "sentiment_count = reddit.groupBy('subreddit', 'sentiment_category').count()\n",
    "\n",
    "# pivot the sentiment column and fill null values with 0\n",
    "sentiment_count = sentiment_count.groupBy('subreddit').pivot('sentiment_category', ['Negative', 'Neutral', 'Positive']).sum('count').fillna(0)"
   ]
  },
  {
   "cell_type": "code",
   "execution_count": 55,
   "id": "ebbe8a49-7ec8-4601-92d5-cde8e539b248",
   "metadata": {
    "tags": []
   },
   "outputs": [
    {
     "name": "stdout",
     "output_type": "stream",
     "text": [
      "+-------------+--------+-------+--------+\n",
      "|    subreddit|Negative|Neutral|Positive|\n",
      "+-------------+--------+-------+--------+\n",
      "|          BPD|  101856|  47748|  130120|\n",
      "|   depression|   57201|  41203|   58302|\n",
      "|mentalillness|   17627|   8605|   18009|\n",
      "|      Anxiety|   77670|  12857|   76491|\n",
      "|schizophrenia|    4122|  10227|    5926|\n",
      "+-------------+--------+-------+--------+\n",
      "\n"
     ]
    }
   ],
   "source": [
    "sentiment_count.show()"
   ]
  },
  {
   "cell_type": "code",
   "execution_count": null,
   "id": "50d8e928-57b5-44a8-bb57-5494aef940b1",
   "metadata": {},
   "outputs": [],
   "source": []
  }
 ],
 "metadata": {
  "kernelspec": {
   "display_name": "Python 3 (ipykernel)",
   "language": "python",
   "name": "python3"
  },
  "language_info": {
   "codemirror_mode": {
    "name": "ipython",
    "version": 3
   },
   "file_extension": ".py",
   "mimetype": "text/x-python",
   "name": "python",
   "nbconvert_exporter": "python",
   "pygments_lexer": "ipython3",
   "version": "3.10.9"
  }
 },
 "nbformat": 4,
 "nbformat_minor": 5
}
